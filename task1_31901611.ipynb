{
 "cells": [
  {
   "cell_type": "markdown",
   "metadata": {},
   "source": [
    "# FIT5196 Task 1 in Assessment 1\n",
    "#### Student Name: Prashasti Garg\n",
    "#### Student ID: 31901611\n",
    "\n",
    "Date: 23/01/2021\n",
    "\n",
    "Version: 1.0\n",
    "\n",
    "Environment: Python 3.7.9 and Jupyter notebook\n",
    "\n",
    "Libraries used: please include the main libraries you used in your assignment here, e.g.,:\n",
    "* os (for fetching the directory path to read all the files located in a folder)\n",
    "* re (for regular expression to search a pattern)\n",
    "* langid (for classifying the text language)"
   ]
  },
  {
   "cell_type": "markdown",
   "metadata": {},
   "source": [
    "### Importing Libraries\n",
    " - In this task, we are provided 140 text files,which includes covid-19 related tweets.\n",
    " - The text files includes the id, text and date of each tweets.\n",
    " - id is of 19 characters.\n",
    " - text is the tweets related to covid-19.\n",
    " - date is the Created_at which consists of date and time of tweets."
   ]
  },
  {
   "cell_type": "code",
   "execution_count": 1,
   "metadata": {},
   "outputs": [],
   "source": [
    "import os\n",
    "import re\n",
    "import langid "
   ]
  },
  {
   "cell_type": "markdown",
   "metadata": {},
   "source": [
    "### Extracted the data from the text files"
   ]
  },
  {
   "cell_type": "code",
   "execution_count": 2,
   "metadata": {},
   "outputs": [],
   "source": [
    "# an empty list is created to append all the files\n",
    "store = []\n",
    "# the file is listed using os.listdir() from its destination\n",
    "for file in os.listdir(r'D:\\Jupyter Notebook\\Wrangling\\Dataset_txt'):\n",
    "    # the files ending with '.txt' are collected\n",
    "    if file.endswith('.txt'):\n",
    "        # each file in the folder is open with a read comand\n",
    "        with open(os.path.join(r'D:\\Jupyter Notebook\\Wrangling\\Dataset_txt', file), 'rt',  encoding = \"utf8\") as fin:\n",
    "            text = fin.read()\n",
    "            store.append(text)"
   ]
  },
  {
   "cell_type": "markdown",
   "metadata": {},
   "source": [
    "### The id, text and date in each line is stored in a list using Regex\n",
    "- Text is collected using re.findall(), where regex is used to search for the specific pattern."
   ]
  },
  {
   "cell_type": "code",
   "execution_count": 3,
   "metadata": {},
   "outputs": [],
   "source": [
    "# an empty list is created where the collected text is appended\n",
    "tweet_extract = []\n",
    "for i in (store):\n",
    "    tweet_extract.append(re.findall(r'\\'id\\': \\'[a-zA-Z0-9]{19}\\', \\'text\\': \\'.*?\\', \\'Created_at\\': \\'[0-9]{4}\\-[0-9]{2}\\-[0-9]{2}', i))"
   ]
  },
  {
   "cell_type": "markdown",
   "metadata": {},
   "source": [
    "### Segregated id, text and date using Regex, from each line, is stored in a dictionary\n",
    "- r'\\'id\\': \\'[a-zA-Z0-9]{19}' :  Used to find all the ids which has 19 characters in the extracted_tweet list \n",
    "- r'\\'text\\': \\'.*?\\'' :  Used to find all the text in the extracted_tweet list \n",
    "- r'\\'Created_at\\': \\'[0-9]{4}\\-[0-9]{2}\\-[0-9]{2}' :  Used to find all the dates in the extracted_tweet list"
   ]
  },
  {
   "cell_type": "code",
   "execution_count": 30,
   "metadata": {},
   "outputs": [],
   "source": [
    "tweets_dict = {}\n",
    "extracted_id_re= r'\\'id\\': \\'[a-zA-Z0-9]{19}'\n",
    "extracted_text_re= r'\\'text\\': \\'.*?\\''\n",
    "extracted_date_re= r'\\'Created_at\\': \\'[0-9]{4}\\-[0-9]{2}\\-[0-9]{2}'\n",
    "for i in tweet_extract:\n",
    "    for j in i:\n",
    "        tweet_id = re.sub('\\'id\\': \\'', '', re.findall(extracted_id_re, j)[0]).strip(\"'\")\n",
    "        text = re.sub('\\'text\\': \\'', '', re.findall(extracted_text_re, j)[0]).strip(\"'\").replace(\"\\\\n\", \" \")\n",
    "        date = re.sub('\\'Created_at\\': \\'', '', re.findall(extracted_date_re, j)[0])\n",
    "        if not date in tweets_dict:\n",
    "                tweets_dict[date] = {}\n",
    "        tweets_dict[date][tweet_id] = text"
   ]
  },
  {
   "cell_type": "markdown",
   "metadata": {},
   "source": [
    "### English text is collected via langid\n",
    "- All the tweets which are in english language only are assembled using langid library which classifies the text according to its language."
   ]
  },
  {
   "cell_type": "code",
   "execution_count": 44,
   "metadata": {},
   "outputs": [],
   "source": [
    "# an empty dictionary is created to assemble all the text with their respective dates\n",
    "en_dict = {}\n",
    "for date,text in tweets_dict.items():\n",
    "    for k, v in text.items():\n",
    "        # the text is checked for english language\n",
    "        if langid.classify(v)[0] == 'en':\n",
    "            if not date in en_dict:\n",
    "                en_dict[date] = {}\n",
    "            en_dict[date][k] = v"
   ]
  },
  {
   "cell_type": "markdown",
   "metadata": {},
   "source": [
    "###  XML is created from dictionary"
   ]
  },
  {
   "cell_type": "code",
   "execution_count": 46,
   "metadata": {},
   "outputs": [],
   "source": [
    "def dicttoxml(data):\n",
    "    result = \"<data>\"\n",
    "    for date in data.keys():\n",
    "        #string formatting is done accordig to the required format in xml\n",
    "        result += \"<tweets date=\\\"{}\\\">\".format(date)\n",
    "        for tid in data[date].keys():\n",
    "             result += \"<tweet id=\\\"{}\\\">{}</tweet>\".format(tid, data[date][tid])\n",
    "        result += \"</tweets>\"\n",
    "    result += \"</data>\"\n",
    "    return result"
   ]
  },
  {
   "cell_type": "markdown",
   "metadata": {},
   "source": [
    "### Data passed to the function dictoxml\n",
    "- The function dicttoxml created above, is sent a data which is en_dict to load the XML."
   ]
  },
  {
   "cell_type": "code",
   "execution_count": 47,
   "metadata": {},
   "outputs": [],
   "source": [
    "xml_data = dicttoxml(en_dict)"
   ]
  },
  {
   "cell_type": "markdown",
   "metadata": {},
   "source": [
    "### Created XML file and xml data is writtedn to a file"
   ]
  },
  {
   "cell_type": "code",
   "execution_count": 48,
   "metadata": {},
   "outputs": [],
   "source": [
    "# a file is created to store the xml file with the required file name format\n",
    "fout = open(\"./31901611.xml\", \"w\", encoding=\"utf-8\")\n",
    "# the data is written in fout variable using .write()\n",
    "fout.write(xml_data)\n",
    "# the variable is closed \n",
    "fout.close()"
   ]
  }
 ],
 "metadata": {
  "kernelspec": {
   "display_name": "Python 3",
   "language": "python",
   "name": "python3"
  },
  "language_info": {
   "codemirror_mode": {
    "name": "ipython",
    "version": 3
   },
   "file_extension": ".py",
   "mimetype": "text/x-python",
   "name": "python",
   "nbconvert_exporter": "python",
   "pygments_lexer": "ipython3",
   "version": "3.8.5"
  }
 },
 "nbformat": 4,
 "nbformat_minor": 4
}
